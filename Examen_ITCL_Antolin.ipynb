{
 "cells": [
  {
   "cell_type": "markdown",
   "metadata": {},
   "source": [
    "# Prueba teorica\n",
    "\n",
    "\n",
    "### Lo primero de todo para poder realizar la prueba es crear un usuario para Git/Gitlab y descargate el proyecto de base de la url: \n",
    "### A lo largo de la prueba realice multiples commit en una rama con su nombre.\n",
    "### Se valorará el uso de try catch o programacion defensiva durante la prueba\n"
   ]
  },
  {
   "cell_type": "code",
   "execution_count": null,
   "metadata": {},
   "outputs": [],
   "source": []
  },
  {
   "cell_type": "markdown",
   "metadata": {},
   "source": [
    "# 1º Prueba con sockets para intercambio de datos cliente-servidor\n",
    "### Crea un socket de envio como cliente y un socket de recepcion como servidor, el cliente va a tener que enviar cada 10 segundos los datos al servidor.\n",
    "### A continuación, el servidor va a tener que recibir los datos y visualizarlos en el momento que le llegan con un timestamp.\n",
    "### El cliente codificará los datos en binario para enviarlos y el servidor lo decodificará antes de visualizarlos.\n",
    "### Se utilizaran los recursos que se encuentran en la carpeta Ficheros_Examen.\n",
    "\n",
    "#### Evaluacion opcional:\n",
    "#### Utiliza built-in Decorators donde sea posible para una mejor optimización del código.\n"
   ]
  },
  {
   "cell_type": "code",
   "execution_count": null,
   "metadata": {},
   "outputs": [],
   "source": []
  },
  {
   "cell_type": "markdown",
   "metadata": {},
   "source": [
    "## Empaqueta el codigo realizado anteriormente sobre los sockets con una estructura de carpetas de libreria que contenga:\n",
    "\n",
    "#### Agrege todos los recursos necesarios como carpetas y ficheros necesarios (docs, tests, readme, requirements, setup, etc...)\n",
    "#### Crea la documentacion de las funciones que realice con la libreria \"sphinx\""
   ]
  },
  {
   "cell_type": "code",
   "execution_count": null,
   "metadata": {},
   "outputs": [],
   "source": []
  },
  {
   "cell_type": "markdown",
   "metadata": {},
   "source": [
    "# 2º Serializacion (pickle)"
   ]
  },
  {
   "cell_type": "markdown",
   "metadata": {},
   "source": [
    "### Partiendo del model.pkl de la carpeta Pickle/ seralizalo y deserializalo"
   ]
  },
  {
   "cell_type": "code",
   "execution_count": null,
   "metadata": {},
   "outputs": [],
   "source": []
  },
  {
   "cell_type": "markdown",
   "metadata": {},
   "source": [
    "# 3º Prueba con expresiones regulares y parseo"
   ]
  },
  {
   "cell_type": "markdown",
   "metadata": {},
   "source": [
    "## Dado un documento que se encuentra en la carpeta RegEx, cargue el texto y mediante expresiones regulares determine:\n",
    "\n",
    "####     *Cuantos España.svg hay en el texto.\n",
    "####     *Sustituye todo lo que empiece por Espa y termine en .svg por España.svg. Ej: Espana.svg\n",
    "####     *Sustituye todo lo que empiece por Mayusculas y le sigan una o mas minusculas y termine en .svg por España.svg. Ej: Modificaciones.svg\n",
    "####     *Sustituye todo lo que termine en .svg por España.svg. Ej: vientos.svg\n",
    "####     *Sustituye todo lo que contenga cualquier cosa en el inicio, le siga numeros del 0 al 9 y continue con .svg por España.svg. Ej: 1111.svg\n",
    "####     *Finalmente cuantos España.svg hay en el texto.\n",
    "#### *Para terminar define y comprueba mediante un test (assert) cuantas \"España.svg\" han salido al final"
   ]
  },
  {
   "cell_type": "code",
   "execution_count": 3,
   "metadata": {},
   "outputs": [],
   "source": []
  },
  {
   "cell_type": "markdown",
   "metadata": {},
   "source": [
    "# 4º Clases"
   ]
  },
  {
   "cell_type": "markdown",
   "metadata": {},
   "source": [
    "## Definir una clase Animal que tenga una funcion \"speak\" y dos clases de animales que hereden y devuelvan el tipo de sonido/Onomatopeya que hacen (\"Woof, Meow, oink\")"
   ]
  },
  {
   "cell_type": "code",
   "execution_count": null,
   "metadata": {},
   "outputs": [],
   "source": []
  }
 ],
 "metadata": {
  "kernelspec": {
   "display_name": "Python 3",
   "language": "python",
   "name": "python3"
  },
  "language_info": {
   "codemirror_mode": {
    "name": "ipython",
    "version": 3
   },
   "file_extension": ".py",
   "mimetype": "text/x-python",
   "name": "python",
   "nbconvert_exporter": "python",
   "pygments_lexer": "ipython3",
   "version": "3.8.5"
  }
 },
 "nbformat": 4,
 "nbformat_minor": 2
}
